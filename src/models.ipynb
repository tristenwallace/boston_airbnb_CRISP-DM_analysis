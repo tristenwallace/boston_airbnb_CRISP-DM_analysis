{
 "cells": [
  {
   "cell_type": "markdown",
   "metadata": {},
   "source": [
    "# 3. Data Modeling"
   ]
  },
  {
   "cell_type": "markdown",
   "metadata": {},
   "source": [
    "## 3.1 Import Data"
   ]
  },
  {
   "cell_type": "markdown",
   "metadata": {},
   "source": [
    "**Analysis Questions:**\n",
    "\n",
    "Q1. From a traveler's perspective, does a \"superhost\" enhance the guest experience?\n",
    "\n",
    "Q2. What features have the most influence on the success and profitability of an Airbnb listing from an investor's standpoint?\n",
    "\n",
    "Q3. How significantly do customer reviews influence the booking frequency of a listing?"
   ]
  },
  {
   "cell_type": "code",
   "execution_count": 37,
   "metadata": {},
   "outputs": [],
   "source": [
    "# Import packages\n",
    "import numpy as np\n",
    "import pandas as pd\n",
    "from matplotlib import pyplot as plt\n",
    "%matplotlib inline\n",
    "import seaborn as sns\n",
    "import warnings\n",
    "warnings.simplefilter(action='ignore')\n",
    "\n",
    "import func\n",
    "\n",
    "pd.set_option('display.max_rows', 30)\n",
    "pd.set_option('display.max_columns', 100)"
   ]
  },
  {
   "cell_type": "code",
   "execution_count": 38,
   "metadata": {},
   "outputs": [],
   "source": [
    "# Import cleaned dataframes\n",
    "df_listings = pd.read_pickle('../data/listings.pkl')\n",
    "df_reviews = pd.read_pickle('../data/reviews.pkl')"
   ]
  },
  {
   "cell_type": "code",
   "execution_count": 43,
   "metadata": {},
   "outputs": [],
   "source": [
    "# One-hot encode catagory features\n",
    "cat_cols = df_listings.select_dtypes('category').columns.tolist()\n",
    "\n",
    "for col in cat_cols:\n",
    "    dummies = pd.get_dummies(df_listings[col], prefix=col)\n",
    "    df_listings = pd.concat([df_listings, dummies], axis=1)"
   ]
  },
  {
   "cell_type": "code",
   "execution_count": 40,
   "metadata": {},
   "outputs": [],
   "source": [
    "# Merge data\n",
    "df_reviews.listing_id = df_reviews.listing_id.astype('str')\n",
    "df_full = df_listings.merge(df_reviews, left_on='id', right_on='listing_id')"
   ]
  }
 ],
 "metadata": {
  "kernelspec": {
   "display_name": "udacity",
   "language": "python",
   "name": "python3"
  },
  "language_info": {
   "codemirror_mode": {
    "name": "ipython",
    "version": 3
   },
   "file_extension": ".py",
   "mimetype": "text/x-python",
   "name": "python",
   "nbconvert_exporter": "python",
   "pygments_lexer": "ipython3",
   "version": "3.11.5"
  }
 },
 "nbformat": 4,
 "nbformat_minor": 2
}
